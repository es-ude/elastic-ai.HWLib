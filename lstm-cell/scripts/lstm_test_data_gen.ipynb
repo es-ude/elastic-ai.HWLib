{
 "cells": [
  {
   "cell_type": "code",
   "execution_count": 1,
   "metadata": {},
   "outputs": [],
   "source": [
    "import torch\n",
    "import random\n",
    "import torch.nn as nn\n",
    "import numpy as np\n",
    "import math"
   ]
  },
  {
   "cell_type": "markdown",
   "metadata": {},
   "source": [
    "- Below defined the bitwidth for fixed_point data, **nbits** represents the whole bitwidth of a fixed_point number, while **frac_bits** states the bitwidth for a fractional part in a fixed_point number."
   ]
  },
  {
   "cell_type": "code",
   "execution_count": 2,
   "metadata": {},
   "outputs": [],
   "source": [
    "frac_bits = 8\n",
    "nbits = 16"
   ]
  },
  {
   "cell_type": "markdown",
   "metadata": {},
   "source": [
    "- Below are functions that I would need to **transfer** floating number to fixed data and **format** them into strings."
   ]
  },
  {
   "cell_type": "code",
   "execution_count": 18,
   "metadata": {},
   "outputs": [],
   "source": [
    "def int_to_hex(val, nbits):\n",
    "    if val < 0:\n",
    "        return hex((val + (1 << nbits)) % (1 << nbits))\n",
    "    else:\n",
    "        return \"{0:#0{1}x}\".format(val, 2 + int(nbits / 4))\n",
    "        \n",
    "\n",
    "def fixed_point_multiply(x,y,frac_bits=8):\n",
    "    return int(x*y/(2**frac_bits))\n",
    "\n",
    "def format_array_to_string(arr, vhdl_prefix=None, nbits=16):\n",
    "    if vhdl_prefix is None:\n",
    "        string_to_return = \"X_MEM :=\"\n",
    "    else:\n",
    "        string_to_return = vhdl_prefix\n",
    "    string_to_return += \" (\"\n",
    "\n",
    "    for i in range(2**math.ceil(math.log2(len(arr)))):\n",
    "        if i< len(arr):\n",
    "            string_to_return += \"x\\\"\"+int_to_hex(arr[i], nbits)[2:]+\"\\\",\"\n",
    "        else:\n",
    "            string_to_return += \"x\\\"\"+int_to_hex(0, nbits)[2:]+\"\\\",\"\n",
    "    string_to_return = string_to_return[:-1]  +\");\"\n",
    "\n",
    "    return string_to_return\n",
    "\n",
    "def float_array_to_int(float_array, frac_bits=8):\n",
    "    scaled_array = float_array*2**frac_bits\n",
    "    int_array = scaled_array.astype(np.int16)\n",
    "    return int_array\n",
    "\n",
    "def float_array_to_string(float_array, vhdl_prefix=None, frac_bits=8, nbits=16):\n",
    "    scaled_array = float_array*2**frac_bits\n",
    "    int_array = scaled_array.astype(np.int16)\n",
    "    return format_array_to_string(int_array, vhdl_prefix, nbits)\n",
    "\n",
    "def int_to_bit(val, nbits):\n",
    "    format_str = \"{0:0\"+str(nbits)+\"b}\"\n",
    "    if val < 0:\n",
    "        return bin((val + (1 << nbits)) % (1 << nbits))[2:]\n",
    "    else:\n",
    "        return format_str.format(val)\n",
    "\n",
    "def mem_array_to_dat_file(file_name=\"\", float_arr=None, nbits=16):\n",
    "\n",
    "    scaled_array = float_arr*2**frac_bits\n",
    "    int_array = scaled_array.astype(np.int16)\n",
    "    # file open\n",
    "    if file_name==\"\":\n",
    "        print(\"you must specify the file name where to dump your array.\\r\\n\")\n",
    "        return\n",
    "\n",
    "    string_to_write = \"\"\n",
    "    # if len(int_array) < 2**math.ceil(math.log2(len(int_array))):\n",
    "    for i in range(2**math.ceil(math.log2(len(int_array)))):\n",
    "        if i< len(int_array):\n",
    "            string_to_write += (int_to_bit(int_array[i], nbits)+'\\r')\n",
    "        else:\n",
    "            string_to_write += (int_to_bit(0, nbits)+'\\r')\n",
    "\n",
    "    txt_file = open(file_name, \"w\")\n",
    "    txt_file.write(string_to_write[:-1])\n",
    "    txt_file.close()"
   ]
  },
  {
   "cell_type": "markdown",
   "metadata": {},
   "source": [
    "weight_ih_l[k] : `(W_ii|W_if|W_ig|W_io)`\n",
    "\n",
    "weight_hh_l[k] : `(W_hi|W_hf|W_hg|W_ho)`\n",
    "\n",
    "bias_ih_l[k] :  `(b_ii|b_if|b_ig|b_io)`\n",
    "\n",
    "bias_hh_l[k] :  `(W_hi|W_hf|W_hg|b_ho)`"
   ]
  },
  {
   "cell_type": "code",
   "execution_count": 4,
   "metadata": {},
   "outputs": [
    {
     "name": "stdout",
     "output_type": "stream",
     "text": [
      "signal ROM : WI_ARRAY := (x\"0000\",x\"001e\",x\"ffd1\",x\"ffd6\",x\"ffea\",x\"0024\",x\"0004\",x\"ffe5\",x\"0034\",x\"0017\",x\"ffd5\",x\"0036\",x\"002b\",x\"ffec\",x\"0020\",x\"ffe0\",x\"fff8\",x\"0030\",x\"0002\",x\"ffd8\",x\"ffed\",x\"fff1\",x\"fff5\",x\"0005\",x\"0034\",x\"000f\",x\"ffff\",x\"002d\",x\"fffb\",x\"000f\",x\"0003\",x\"ffdd\",x\"0002\",x\"001b\",x\"001c\",x\"ffcc\",x\"fff6\",x\"ffd6\",x\"ffe8\",x\"0014\",x\"ffd8\",x\"0015\",x\"0030\",x\"0003\",x\"ffda\",x\"ffec\",x\"000c\",x\"ffd5\",x\"001c\",x\"ffcd\",x\"ffef\",x\"fff5\",x\"ffca\",x\"ffdb\",x\"ffe9\",x\"ffc9\",x\"ffc9\",x\"fff5\",x\"0026\",x\"ffca\",x\"002f\",x\"ffea\",x\"0010\",x\"0002\",x\"ffcd\",x\"002f\",x\"001e\",x\"0038\",x\"001c\",x\"ffdb\",x\"002f\",x\"0003\",x\"001b\",x\"ffd3\",x\"fff0\",x\"0002\",x\"0016\",x\"0022\",x\"ffda\",x\"ffe8\",x\"ffc8\",x\"ffea\",x\"000c\",x\"ffd4\",x\"0012\",x\"001e\",x\"0007\",x\"ffda\",x\"ffd4\",x\"ffef\",x\"0019\",x\"0038\",x\"0020\",x\"fffa\",x\"0014\",x\"ffc8\",x\"ffd0\",x\"001a\",x\"ffe0\",x\"001b\",x\"0014\",x\"002f\",x\"fff5\",x\"002a\",x\"fff7\",x\"ffd8\",x\"ffe4\",x\"ffd1\",x\"001d\",x\"fffb\",x\"002c\",x\"0023\",x\"001f\",x\"0001\",x\"ffef\",x\"fff4\",x\"0007\",x\"001c\",x\"ffd8\",x\"0030\",x\"fffa\",x\"ffd1\",x\"ffe2\",x\"0032\",x\"0034\",x\"0006\",x\"0033\",x\"ffcb\",x\"ffdc\",x\"fff2\",x\"ffcb\",x\"0028\",x\"001c\",x\"0021\",x\"0030\",x\"ffe2\",x\"0012\",x\"0017\",x\"fff0\",x\"0013\",x\"fff0\",x\"0023\",x\"fff1\",x\"ffeb\",x\"000e\",x\"0014\",x\"ffe5\",x\"0005\",x\"0021\",x\"fffb\",x\"ffea\",x\"0031\",x\"ffdb\",x\"ffe6\",x\"ffd9\",x\"0011\",x\"fff3\",x\"0014\",x\"ffd7\",x\"ffdf\",x\"ffe3\",x\"0034\",x\"fff1\",x\"0000\",x\"ffe5\",x\"0039\",x\"0037\",x\"ffd5\",x\"ffd2\",x\"ffd5\",x\"0000\",x\"fff2\",x\"ffdb\",x\"ffec\",x\"000a\",x\"ffcb\",x\"ffdf\",x\"0031\",x\"0019\",x\"001b\",x\"ffe3\",x\"000c\",x\"fff3\",x\"ffe5\",x\"0007\",x\"002f\",x\"ffda\",x\"0002\",x\"ffeb\",x\"0038\",x\"ffca\",x\"ffca\",x\"0038\",x\"ffdc\",x\"000a\",x\"fffc\",x\"fff4\",x\"fff4\",x\"0024\",x\"0002\",x\"0003\",x\"ffe3\",x\"0009\",x\"ffcb\",x\"ffd7\",x\"ffc9\",x\"ffdf\",x\"ffed\",x\"001c\",x\"ffdb\",x\"0035\",x\"fff4\",x\"fff6\",x\"002c\",x\"001c\",x\"0030\",x\"0021\",x\"ffef\",x\"ffdb\",x\"fffc\",x\"002f\",x\"ffed\",x\"ffcb\",x\"0017\",x\"0037\",x\"ffe3\",x\"0024\",x\"0021\",x\"ffe7\",x\"fffe\",x\"fff0\",x\"ffd1\",x\"ffcd\",x\"000e\",x\"fffc\",x\"ffe4\",x\"000b\",x\"0015\",x\"002d\",x\"002c\",x\"fff8\",x\"ffce\",x\"ffcd\",x\"0035\",x\"0019\",x\"0018\",x\"ffcf\",x\"0035\",x\"0036\",x\"0033\",x\"0024\",x\"0038\",x\"0016\",x\"0007\",x\"0026\",x\"ffd0\",x\"ffeb\",x\"ffd9\",x\"0036\",x\"ffe8\",x\"ffe6\",x\"001d\",x\"ffe6\",x\"ffe4\",x\"fffb\",x\"fffb\",x\"ffd4\",x\"002f\",x\"ffe7\",x\"0014\",x\"0031\",x\"001c\",x\"0008\",x\"0030\",x\"0007\",x\"ffdf\",x\"000a\",x\"ffd4\",x\"ffd9\",x\"ffe3\",x\"ffe6\",x\"0036\",x\"000d\",x\"ffc9\",x\"fff0\",x\"ffda\",x\"0032\",x\"fff7\",x\"ffcc\",x\"fffd\",x\"0023\",x\"000e\",x\"0012\",x\"0005\",x\"0015\",x\"fff3\",x\"ffea\",x\"ffcb\",x\"ffd5\",x\"0018\",x\"0019\",x\"0017\",x\"ffdf\",x\"0011\",x\"001f\",x\"ffdf\",x\"0008\",x\"0012\",x\"0004\",x\"ffdb\",x\"0036\",x\"ffdf\",x\"002f\",x\"ffd3\",x\"fff3\",x\"001f\",x\"ffe9\",x\"0030\",x\"ffd9\",x\"ffd0\",x\"ffe7\",x\"0009\",x\"0034\",x\"ffe5\",x\"0014\",x\"fff9\",x\"0002\",x\"000d\",x\"0023\",x\"0036\",x\"fff2\",x\"fff4\",x\"002a\",x\"ffd4\",x\"0006\",x\"0035\",x\"fff9\",x\"002c\",x\"ffef\",x\"002e\",x\"ffc9\",x\"fff8\",x\"fff6\",x\"0012\",x\"0016\",x\"002b\",x\"fff8\",x\"fffe\",x\"0027\",x\"fff1\",x\"ffd4\",x\"ffec\",x\"0016\",x\"002f\",x\"0031\",x\"0032\",x\"ffda\",x\"fffa\",x\"fffd\",x\"0019\",x\"0027\",x\"fff7\",x\"ffd1\",x\"001c\",x\"0011\",x\"0016\",x\"ffdd\",x\"0024\",x\"0036\",x\"0004\",x\"ffcb\",x\"0028\",x\"ffd6\",x\"000d\",x\"0008\",x\"0032\",x\"000b\",x\"ffcf\",x\"0005\",x\"ffdd\",x\"ffe6\",x\"0013\",x\"ffcd\",x\"000d\",x\"ffdc\",x\"fffa\",x\"0007\",x\"0030\",x\"ffe5\",x\"0024\",x\"fff9\",x\"ffe5\",x\"ffcf\",x\"ffcc\",x\"0037\",x\"fff2\",x\"0002\",x\"000f\",x\"0026\",x\"0030\",x\"ffcb\",x\"0032\",x\"002b\",x\"ffc7\",x\"000a\",x\"002e\",x\"ffd6\",x\"fff7\",x\"ffdf\",x\"ffe0\",x\"000d\",x\"0035\",x\"ffd3\",x\"0022\",x\"ffe3\",x\"fff5\",x\"002d\",x\"fff4\",x\"0005\",x\"ffd8\",x\"0030\",x\"fff9\",x\"ffd7\",x\"0010\",x\"ffd8\",x\"fff7\",x\"fff7\",x\"ffe6\",x\"0016\",x\"ffdf\",x\"ffd3\",x\"0003\",x\"002d\",x\"fff0\",x\"001a\",x\"0031\",x\"0025\",x\"ffe2\",x\"fffa\",x\"ffee\",x\"ffd2\",x\"0000\",x\"002b\",x\"0030\",x\"0005\",x\"000d\",x\"ffe8\",x\"002b\",x\"ffe9\",x\"ffd9\",x\"0014\",x\"001c\",x\"0028\",x\"0015\",x\"ffc8\",x\"0008\",x\"0022\",x\"ffcd\",x\"0033\",x\"0014\",x\"ffd8\",x\"fff4\",x\"0031\",x\"ffd5\",x\"fff0\",x\"0012\",x\"ffce\",x\"001f\",x\"001d\",x\"0023\",x\"ffdc\",x\"0039\",x\"ffdf\",x\"0039\",x\"ffca\",x\"ffdb\",x\"001c\",x\"000b\",x\"ffd4\",x\"ffe0\",x\"ffcd\",x\"0023\",x\"0005\",x\"0003\",x\"ffe1\",x\"ffe8\",x\"fff0\",x\"ffc9\",x\"0002\",x\"000a\",x\"0000\",x\"0012\",x\"0036\",x\"000f\",x\"ffec\",x\"ffe9\",x\"ffdc\",x\"ffd9\",x\"fff7\",x\"fff6\",x\"0000\",x\"0000\",x\"0000\",x\"0000\",x\"0000\",x\"0000\",x\"0000\",x\"0000\",x\"0000\",x\"0000\",x\"0000\",x\"0000\");\n",
      "signal ROM : WF_ARRAY := (x\"0035\",x\"0026\",x\"ffe8\",x\"fff2\",x\"ffca\",x\"0019\",x\"ffe8\",x\"002d\",x\"ffd8\",x\"0000\",x\"0033\",x\"0038\",x\"ffdf\",x\"000a\",x\"0006\",x\"ffe6\",x\"ffed\",x\"000f\",x\"ffd9\",x\"0009\",x\"0018\",x\"ffea\",x\"002f\",x\"fffd\",x\"0019\",x\"ffff\",x\"ffd5\",x\"ffd4\",x\"fffd\",x\"0008\",x\"0038\",x\"ffef\",x\"001f\",x\"fff0\",x\"fff8\",x\"fff7\",x\"0000\",x\"ffeb\",x\"000d\",x\"0002\",x\"0024\",x\"fff5\",x\"0005\",x\"ffeb\",x\"ffd1\",x\"0017\",x\"0007\",x\"ffea\",x\"ffed\",x\"000e\",x\"ffe9\",x\"0021\",x\"ffde\",x\"0033\",x\"0027\",x\"fff6\",x\"0025\",x\"0003\",x\"0015\",x\"0018\",x\"fff2\",x\"0018\",x\"002a\",x\"0002\",x\"000b\",x\"0002\",x\"0027\",x\"ffe8\",x\"ffe2\",x\"0018\",x\"ffcf\",x\"0000\",x\"ffe6\",x\"0025\",x\"ffcb\",x\"ffd0\",x\"fff2\",x\"0002\",x\"0008\",x\"000d\",x\"0022\",x\"0038\",x\"000b\",x\"fffd\",x\"0038\",x\"ffe8\",x\"fffc\",x\"ffe7\",x\"fff9\",x\"000c\",x\"0007\",x\"fff6\",x\"ffc7\",x\"0002\",x\"ffff\",x\"0008\",x\"002b\",x\"0037\",x\"ffdf\",x\"fffd\",x\"0016\",x\"0003\",x\"ffe5\",x\"001b\",x\"ffca\",x\"ffea\",x\"ffcc\",x\"ffd7\",x\"0035\",x\"0021\",x\"001e\",x\"001f\",x\"ffd3\",x\"0006\",x\"0035\",x\"ffe1\",x\"0032\",x\"000f\",x\"0028\",x\"ffe8\",x\"001a\",x\"ffce\",x\"fffd\",x\"0013\",x\"0011\",x\"ffdf\",x\"fff2\",x\"ffe5\",x\"ffec\",x\"ffd2\",x\"002f\",x\"0038\",x\"0034\",x\"0026\",x\"0028\",x\"fff9\",x\"ffd4\",x\"ffeb\",x\"fffa\",x\"ffe2\",x\"001d\",x\"0014\",x\"0009\",x\"000d\",x\"0032\",x\"0014\",x\"ffce\",x\"ffd7\",x\"0019\",x\"0007\",x\"fff4\",x\"000c\",x\"ffdb\",x\"fffe\",x\"0028\",x\"001b\",x\"ffc7\",x\"ffcc\",x\"0023\",x\"0024\",x\"ffcd\",x\"0015\",x\"ffd4\",x\"002b\",x\"0011\",x\"0038\",x\"ffc8\",x\"ffc9\",x\"0026\",x\"0032\",x\"0023\",x\"0026\",x\"ffd0\",x\"0029\",x\"ffca\",x\"fffb\",x\"0001\",x\"fffc\",x\"000b\",x\"0024\",x\"000c\",x\"ffdb\",x\"ffea\",x\"000a\",x\"ffea\",x\"fff7\",x\"ffca\",x\"ffcb\",x\"0016\",x\"ffe8\",x\"ffde\",x\"ffea\",x\"ffd2\",x\"ffd3\",x\"0022\",x\"001d\",x\"0007\",x\"ffe1\",x\"0013\",x\"0002\",x\"0036\",x\"0024\",x\"0036\",x\"fffc\",x\"ffcd\",x\"ffd8\",x\"000c\",x\"0034\",x\"ffc8\",x\"ffc8\",x\"0007\",x\"002b\",x\"ffde\",x\"000c\",x\"0028\",x\"0011\",x\"000c\",x\"0039\",x\"0025\",x\"ffe0\",x\"0004\",x\"001d\",x\"0032\",x\"ffc8\",x\"001e\",x\"ffe5\",x\"0026\",x\"0000\",x\"ffe4\",x\"ffd5\",x\"fff0\",x\"ffc8\",x\"000c\",x\"ffe1\",x\"0008\",x\"ffdb\",x\"ffd5\",x\"fffc\",x\"ffed\",x\"0021\",x\"0004\",x\"002c\",x\"000a\",x\"ffee\",x\"0026\",x\"0003\",x\"000a\",x\"ffee\",x\"0000\",x\"fff5\",x\"ffcb\",x\"ffd0\",x\"fff5\",x\"001f\",x\"001e\",x\"fffc\",x\"ffd4\",x\"0000\",x\"ffd1\",x\"fff4\",x\"0021\",x\"ffd9\",x\"ffda\",x\"fff3\",x\"fff1\",x\"0009\",x\"0009\",x\"001d\",x\"ffd9\",x\"fffc\",x\"0020\",x\"0031\",x\"fffc\",x\"ffdf\",x\"0010\",x\"ffc9\",x\"0023\",x\"ffd4\",x\"fff4\",x\"ffe9\",x\"0020\",x\"ffdd\",x\"ffdf\",x\"0019\",x\"fffc\",x\"ffca\",x\"ffdf\",x\"0017\",x\"ffed\",x\"0027\",x\"002d\",x\"0008\",x\"fffc\",x\"ffee\",x\"fffe\",x\"000a\",x\"ffd5\",x\"fff3\",x\"ffd1\",x\"0023\",x\"fff5\",x\"fff5\",x\"ffcd\",x\"ffcf\",x\"fff8\",x\"ffdc\",x\"0034\",x\"fff2\",x\"ffe0\",x\"001b\",x\"0008\",x\"0027\",x\"0017\",x\"ffc9\",x\"0024\",x\"fff6\",x\"ffe7\",x\"0024\",x\"0029\",x\"ffce\",x\"fffb\",x\"002f\",x\"0016\",x\"0030\",x\"ffed\",x\"0000\",x\"ffe6\",x\"0015\",x\"ffcd\",x\"fffd\",x\"ffe1\",x\"0031\",x\"0017\",x\"0036\",x\"ffe9\",x\"ffdc\",x\"fffa\",x\"ffcb\",x\"0016\",x\"002a\",x\"000d\",x\"fffb\",x\"001c\",x\"ffdc\",x\"0037\",x\"ffc8\",x\"ffca\",x\"fff3\",x\"002e\",x\"0005\",x\"0032\",x\"ffe9\",x\"0033\",x\"0014\",x\"ffcd\",x\"0015\",x\"ffd7\",x\"0014\",x\"fffa\",x\"0016\",x\"0028\",x\"0018\",x\"fffc\",x\"fffd\",x\"ffdd\",x\"ffec\",x\"0025\",x\"ffea\",x\"0023\",x\"ffea\",x\"fff3\",x\"0001\",x\"ffcc\",x\"0000\",x\"fffb\",x\"0024\",x\"fffa\",x\"ffe7\",x\"002d\",x\"ffd2\",x\"fffb\",x\"fff5\",x\"002d\",x\"002a\",x\"ffda\",x\"001a\",x\"ffd4\",x\"ffd0\",x\"0011\",x\"0000\",x\"ffe6\",x\"ffc9\",x\"ffea\",x\"0013\",x\"ffcc\",x\"ffc9\",x\"0007\",x\"ffd7\",x\"ffce\",x\"ffea\",x\"0006\",x\"fff5\",x\"0028\",x\"000f\",x\"001b\",x\"fff7\",x\"ffcc\",x\"ffda\",x\"0003\",x\"ffcb\",x\"fff8\",x\"ffdc\",x\"ffd9\",x\"0016\",x\"ffd4\",x\"ffd5\",x\"0020\",x\"000a\",x\"0034\",x\"fff1\",x\"ffe5\",x\"fffb\",x\"0000\",x\"002b\",x\"ffc7\",x\"0014\",x\"fff3\",x\"fff4\",x\"ffd1\",x\"001f\",x\"fffc\",x\"0019\",x\"ffe1\",x\"ffe3\",x\"001b\",x\"ffca\",x\"000d\",x\"ffd4\",x\"001c\",x\"ffd0\",x\"0023\",x\"ffca\",x\"ffd0\",x\"0000\",x\"002d\",x\"ffcf\",x\"ffe7\",x\"0032\",x\"fff7\",x\"0017\",x\"002d\",x\"0027\",x\"ffd8\",x\"0002\",x\"ffd8\",x\"ffc9\",x\"ffee\",x\"ffe3\",x\"0030\",x\"0017\",x\"ffd7\",x\"0009\",x\"0000\",x\"ffe9\",x\"ffe0\",x\"ffee\",x\"002d\",x\"ffd7\",x\"ffd8\",x\"ffef\",x\"0000\",x\"000f\",x\"0001\",x\"fff3\",x\"ffde\",x\"ffe1\",x\"ffdf\",x\"0013\",x\"ffde\",x\"ffff\",x\"fff6\",x\"ffe9\",x\"002e\",x\"ffc9\",x\"ffdc\",x\"ffd2\",x\"fff6\",x\"002c\",x\"0032\",x\"ffcf\",x\"fffe\",x\"0021\",x\"0019\",x\"002e\",x\"ffff\",x\"ffda\",x\"0025\",x\"ffed\",x\"001d\",x\"fff2\",x\"0000\",x\"0000\",x\"0000\",x\"0000\",x\"0000\",x\"0000\",x\"0000\",x\"0000\",x\"0000\",x\"0000\",x\"0000\",x\"0000\");\n",
      "signal ROM : WG_ARRAY := (x\"0002\",x\"0024\",x\"ffd5\",x\"ffd9\",x\"ffdf\",x\"0018\",x\"0033\",x\"0035\",x\"ffcc\",x\"ffdb\",x\"ffe9\",x\"ffdc\",x\"0036\",x\"fffb\",x\"ffdb\",x\"ffe7\",x\"ffe1\",x\"0017\",x\"ffcf\",x\"ffcb\",x\"ffc8\",x\"0018\",x\"001c\",x\"ffdd\",x\"000e\",x\"0028\",x\"ffec\",x\"0030\",x\"0014\",x\"0007\",x\"002a\",x\"0008\",x\"fff4\",x\"0004\",x\"fffa\",x\"001c\",x\"ffda\",x\"001d\",x\"0020\",x\"ffde\",x\"002e\",x\"0038\",x\"ffea\",x\"fff0\",x\"001c\",x\"ffd4\",x\"0016\",x\"000d\",x\"0024\",x\"ffcf\",x\"0000\",x\"fff5\",x\"0007\",x\"fff3\",x\"0000\",x\"ffd1\",x\"0019\",x\"0014\",x\"ffcb\",x\"ffe1\",x\"ffcc\",x\"ffd7\",x\"ffe7\",x\"002f\",x\"fff5\",x\"0020\",x\"0036\",x\"001a\",x\"ffcd\",x\"001c\",x\"0015\",x\"002c\",x\"ffc8\",x\"0023\",x\"002e\",x\"0007\",x\"ffd4\",x\"ffe2\",x\"002e\",x\"ffd2\",x\"ffcb\",x\"0005\",x\"0030\",x\"ffd7\",x\"0012\",x\"0019\",x\"000f\",x\"0038\",x\"002e\",x\"0031\",x\"fff9\",x\"0030\",x\"ffcb\",x\"ffe2\",x\"fff4\",x\"ffef\",x\"0034\",x\"001a\",x\"0024\",x\"0026\",x\"fffc\",x\"0038\",x\"0014\",x\"0001\",x\"ffcf\",x\"ffd6\",x\"fffa\",x\"0008\",x\"000e\",x\"001d\",x\"ffea\",x\"ffef\",x\"002f\",x\"fff1\",x\"ffd9\",x\"0026\",x\"0026\",x\"ffef\",x\"fff5\",x\"ffd6\",x\"ffd1\",x\"0015\",x\"ffe8\",x\"002d\",x\"ffd3\",x\"001c\",x\"ffd8\",x\"fff0\",x\"ffed\",x\"fff8\",x\"fff9\",x\"0001\",x\"001d\",x\"002e\",x\"0026\",x\"0019\",x\"ffe6\",x\"ffd8\",x\"ffcd\",x\"0002\",x\"0037\",x\"fff6\",x\"fffe\",x\"ffd7\",x\"0011\",x\"0024\",x\"ffc8\",x\"ffd8\",x\"002a\",x\"000d\",x\"0000\",x\"002f\",x\"0007\",x\"0033\",x\"0023\",x\"fffd\",x\"000a\",x\"fff8\",x\"ffd8\",x\"ffcb\",x\"0025\",x\"fffa\",x\"ffeb\",x\"fff2\",x\"ffe1\",x\"fff0\",x\"ffcf\",x\"002a\",x\"0017\",x\"ffe4\",x\"ffed\",x\"0019\",x\"ffeb\",x\"000f\",x\"000f\",x\"ffdc\",x\"0019\",x\"ffd8\",x\"ffe8\",x\"0010\",x\"ffdc\",x\"000e\",x\"0003\",x\"0031\",x\"ffec\",x\"fff2\",x\"0031\",x\"ffd2\",x\"0004\",x\"0037\",x\"ffe7\",x\"0036\",x\"0032\",x\"0035\",x\"fffb\",x\"0033\",x\"ffe8\",x\"ffed\",x\"0015\",x\"000c\",x\"0012\",x\"002a\",x\"ffee\",x\"0000\",x\"001d\",x\"001f\",x\"0036\",x\"ffdd\",x\"001e\",x\"0013\",x\"001e\",x\"001b\",x\"ffeb\",x\"ffd3\",x\"002d\",x\"ffe0\",x\"0024\",x\"ffca\",x\"fff7\",x\"0000\",x\"0009\",x\"0004\",x\"0012\",x\"fffa\",x\"000e\",x\"ffc9\",x\"0029\",x\"ffd1\",x\"0000\",x\"fff7\",x\"0038\",x\"ffdb\",x\"fffd\",x\"ffeb\",x\"0032\",x\"0031\",x\"ffff\",x\"ffed\",x\"ffdd\",x\"0028\",x\"fffd\",x\"0035\",x\"0020\",x\"0032\",x\"002d\",x\"ffdb\",x\"0010\",x\"ffe9\",x\"001c\",x\"fffb\",x\"ffe2\",x\"0007\",x\"002f\",x\"fff0\",x\"ffdf\",x\"0004\",x\"ffd9\",x\"ffcd\",x\"0015\",x\"000d\",x\"0004\",x\"0026\",x\"ffe9\",x\"0014\",x\"ffe1\",x\"000b\",x\"fff3\",x\"0028\",x\"0032\",x\"0031\",x\"0002\",x\"0021\",x\"ffc7\",x\"ffdf\",x\"000a\",x\"ffeb\",x\"ffc8\",x\"0019\",x\"ffe5\",x\"ffda\",x\"0000\",x\"ffd4\",x\"ffe7\",x\"ffe6\",x\"ffc8\",x\"0005\",x\"0027\",x\"0017\",x\"ffe5\",x\"ffcc\",x\"ffd2\",x\"0001\",x\"0027\",x\"ffe9\",x\"ffe1\",x\"ffe2\",x\"fffc\",x\"ffca\",x\"ffce\",x\"0038\",x\"ffe0\",x\"0020\",x\"001e\",x\"002b\",x\"0014\",x\"ffe5\",x\"fff6\",x\"fff1\",x\"ffce\",x\"fff6\",x\"0011\",x\"ffe9\",x\"fffe\",x\"0000\",x\"ffc8\",x\"0029\",x\"002e\",x\"0027\",x\"ffee\",x\"001d\",x\"ffcb\",x\"fff2\",x\"fff5\",x\"ffec\",x\"0018\",x\"ffed\",x\"fff1\",x\"0010\",x\"002f\",x\"000f\",x\"ffe6\",x\"fffa\",x\"fff0\",x\"ffcb\",x\"fff7\",x\"ffd0\",x\"0021\",x\"001e\",x\"0035\",x\"ffed\",x\"0002\",x\"000b\",x\"0039\",x\"0034\",x\"ffe3\",x\"ffd0\",x\"ffcd\",x\"ffe5\",x\"0030\",x\"0013\",x\"ffe5\",x\"ffe6\",x\"ffca\",x\"000c\",x\"ffe0\",x\"0037\",x\"002a\",x\"0000\",x\"ffdd\",x\"0037\",x\"002d\",x\"0018\",x\"ffe1\",x\"002d\",x\"0005\",x\"0025\",x\"0017\",x\"001e\",x\"ffce\",x\"ffe1\",x\"0022\",x\"fff5\",x\"ffcf\",x\"0034\",x\"ffff\",x\"ffcd\",x\"0032\",x\"ffdb\",x\"fffa\",x\"0010\",x\"002e\",x\"ffd4\",x\"0013\",x\"ffeb\",x\"ffe8\",x\"fff5\",x\"ffeb\",x\"001f\",x\"fff6\",x\"002b\",x\"000d\",x\"fff8\",x\"ffdf\",x\"ffcc\",x\"fff0\",x\"ffcb\",x\"fff6\",x\"0000\",x\"fffd\",x\"ffe4\",x\"0001\",x\"ffda\",x\"ffd2\",x\"002d\",x\"0009\",x\"0027\",x\"0020\",x\"fff2\",x\"ffea\",x\"0023\",x\"0031\",x\"ffcc\",x\"fff4\",x\"fffb\",x\"ffec\",x\"0030\",x\"fff8\",x\"0030\",x\"0000\",x\"fffa\",x\"ffdf\",x\"ffed\",x\"0012\",x\"0019\",x\"fffe\",x\"002f\",x\"ffed\",x\"0010\",x\"fff3\",x\"fffe\",x\"0036\",x\"ffd9\",x\"0015\",x\"0033\",x\"fff7\",x\"002d\",x\"0000\",x\"ffd6\",x\"ffe1\",x\"0015\",x\"ffe8\",x\"000d\",x\"0038\",x\"0013\",x\"fffb\",x\"000e\",x\"ffe0\",x\"ffd0\",x\"ffd5\",x\"ffd0\",x\"ffde\",x\"0013\",x\"0012\",x\"ffff\",x\"fff4\",x\"000b\",x\"000b\",x\"ffe8\",x\"ffc9\",x\"001f\",x\"ffe0\",x\"fff7\",x\"ffd1\",x\"ffe0\",x\"0017\",x\"ffcb\",x\"ffe0\",x\"002a\",x\"ffe3\",x\"ffe9\",x\"fff0\",x\"0018\",x\"ffdb\",x\"0005\",x\"0017\",x\"ffdd\",x\"0027\",x\"ffd6\",x\"0017\",x\"ffed\",x\"fffc\",x\"000a\",x\"ffd5\",x\"0019\",x\"0015\",x\"fff9\",x\"ffd1\",x\"0016\",x\"0025\",x\"fff6\",x\"001a\",x\"0015\",x\"ffea\",x\"fffd\",x\"0038\",x\"0000\",x\"ffd3\",x\"fffc\",x\"001c\",x\"ffee\",x\"0000\",x\"0000\",x\"0000\",x\"0000\",x\"0000\",x\"0000\",x\"0000\",x\"0000\",x\"0000\",x\"0000\",x\"0000\",x\"0000\");\n",
      "signal ROM : WO_ARRAY := (x\"ffe5\",x\"000a\",x\"ffe3\",x\"000d\",x\"000b\",x\"ffe3\",x\"002f\",x\"001e\",x\"fff7\",x\"0002\",x\"fffa\",x\"000d\",x\"0002\",x\"ffde\",x\"000a\",x\"0001\",x\"0003\",x\"ffeb\",x\"000e\",x\"ffd2\",x\"0011\",x\"001f\",x\"fffa\",x\"ffd4\",x\"0000\",x\"ffd6\",x\"0009\",x\"0018\",x\"0016\",x\"fff9\",x\"0000\",x\"ffcf\",x\"ffd8\",x\"0034\",x\"002a\",x\"001f\",x\"0027\",x\"0016\",x\"0020\",x\"0025\",x\"fff3\",x\"fff9\",x\"0028\",x\"0000\",x\"ffdb\",x\"ffd4\",x\"0020\",x\"002f\",x\"002c\",x\"0009\",x\"ffd2\",x\"fff8\",x\"0013\",x\"ffec\",x\"0015\",x\"0027\",x\"ffcc\",x\"ffd7\",x\"ffc9\",x\"002e\",x\"0000\",x\"ffe6\",x\"0013\",x\"ffeb\",x\"ffdc\",x\"0016\",x\"000a\",x\"ffd8\",x\"ffdb\",x\"001a\",x\"002b\",x\"0004\",x\"ffe4\",x\"001b\",x\"0009\",x\"0026\",x\"ffe3\",x\"0000\",x\"0017\",x\"0004\",x\"ffce\",x\"ffdb\",x\"000c\",x\"0023\",x\"ffee\",x\"001b\",x\"ffdd\",x\"0036\",x\"0028\",x\"000a\",x\"0019\",x\"0013\",x\"ffdf\",x\"0000\",x\"000f\",x\"fff4\",x\"0036\",x\"ffea\",x\"ffcd\",x\"ffe5\",x\"0004\",x\"0007\",x\"ffd3\",x\"0004\",x\"0027\",x\"ffcb\",x\"002f\",x\"ffe7\",x\"ffd8\",x\"fffa\",x\"ffda\",x\"ffe3\",x\"001d\",x\"ffd6\",x\"001a\",x\"0029\",x\"0000\",x\"0019\",x\"ffe0\",x\"002c\",x\"0037\",x\"000d\",x\"0034\",x\"ffc8\",x\"fffa\",x\"0033\",x\"0021\",x\"0007\",x\"001a\",x\"ffe5\",x\"000b\",x\"ffcf\",x\"001b\",x\"ffeb\",x\"ffec\",x\"ffd3\",x\"0017\",x\"ffd7\",x\"fff4\",x\"0019\",x\"002b\",x\"000c\",x\"ffeb\",x\"ffe8\",x\"0020\",x\"000a\",x\"0030\",x\"0015\",x\"002e\",x\"ffd2\",x\"ffd1\",x\"ffcf\",x\"0039\",x\"0024\",x\"ffd9\",x\"002e\",x\"ffe6\",x\"fff1\",x\"0000\",x\"fff6\",x\"000b\",x\"0033\",x\"ffde\",x\"0011\",x\"ffd2\",x\"0008\",x\"002f\",x\"0026\",x\"0031\",x\"001e\",x\"fffc\",x\"000e\",x\"ffe9\",x\"0030\",x\"001c\",x\"0016\",x\"002b\",x\"0039\",x\"0032\",x\"002c\",x\"ffd7\",x\"0031\",x\"0000\",x\"fffe\",x\"fff1\",x\"fff1\",x\"0002\",x\"ffe5\",x\"ffcb\",x\"ffe3\",x\"fff5\",x\"002b\",x\"002a\",x\"ffde\",x\"fffe\",x\"fff0\",x\"ffe2\",x\"fff6\",x\"ffed\",x\"001f\",x\"fff3\",x\"ffec\",x\"002e\",x\"0020\",x\"ffde\",x\"ffe4\",x\"0008\",x\"ffe0\",x\"ffef\",x\"002d\",x\"ffe4\",x\"fffd\",x\"0036\",x\"0013\",x\"ffe3\",x\"ffde\",x\"ffec\",x\"ffef\",x\"0018\",x\"fff4\",x\"0030\",x\"ffe1\",x\"ffef\",x\"0014\",x\"002d\",x\"0033\",x\"001b\",x\"001f\",x\"ffdd\",x\"0010\",x\"0036\",x\"0009\",x\"0002\",x\"ffe7\",x\"0020\",x\"ffdf\",x\"fff1\",x\"ffd1\",x\"ffc9\",x\"001f\",x\"0003\",x\"002d\",x\"002d\",x\"001e\",x\"0016\",x\"fff2\",x\"001e\",x\"001b\",x\"0013\",x\"ffff\",x\"ffec\",x\"002c\",x\"fff6\",x\"0016\",x\"000a\",x\"0008\",x\"0000\",x\"ffd7\",x\"000d\",x\"ffd6\",x\"001b\",x\"ffde\",x\"ffee\",x\"ffe5\",x\"002d\",x\"ffd8\",x\"001d\",x\"001c\",x\"0028\",x\"000e\",x\"001f\",x\"002d\",x\"000b\",x\"0013\",x\"ffd4\",x\"0018\",x\"ffed\",x\"001b\",x\"ffd9\",x\"000c\",x\"fff1\",x\"0005\",x\"0006\",x\"ffec\",x\"ffc8\",x\"fff2\",x\"0015\",x\"0031\",x\"ffcd\",x\"001b\",x\"ffca\",x\"ffca\",x\"ffdd\",x\"fff9\",x\"000f\",x\"ffd5\",x\"002c\",x\"0033\",x\"0003\",x\"002e\",x\"ffda\",x\"ffc8\",x\"ffd3\",x\"002d\",x\"001e\",x\"ffe7\",x\"ffea\",x\"fff9\",x\"0006\",x\"ffd9\",x\"ffd3\",x\"0016\",x\"0010\",x\"0037\",x\"ffe9\",x\"0014\",x\"ffe9\",x\"001c\",x\"fffd\",x\"002a\",x\"001f\",x\"002f\",x\"001d\",x\"0002\",x\"0031\",x\"0035\",x\"002d\",x\"ffcd\",x\"ffd9\",x\"fff7\",x\"ffdf\",x\"0035\",x\"0037\",x\"0036\",x\"ffe6\",x\"ffe2\",x\"0003\",x\"0011\",x\"001c\",x\"0017\",x\"0030\",x\"fff2\",x\"ffee\",x\"0013\",x\"000f\",x\"ffdf\",x\"0005\",x\"ffd5\",x\"fff0\",x\"ffea\",x\"ffdb\",x\"0027\",x\"ffd5\",x\"ffe5\",x\"ffc9\",x\"0032\",x\"ffcd\",x\"ffdf\",x\"ffc8\",x\"000e\",x\"ffd4\",x\"0012\",x\"ffd9\",x\"ffdc\",x\"ffe3\",x\"0008\",x\"0034\",x\"0035\",x\"fffc\",x\"ffc8\",x\"ffee\",x\"ffeb\",x\"fff4\",x\"0015\",x\"001c\",x\"ffe0\",x\"002f\",x\"002e\",x\"0028\",x\"002c\",x\"0019\",x\"0010\",x\"ffe9\",x\"0000\",x\"0007\",x\"ffe3\",x\"fffb\",x\"fff9\",x\"ffca\",x\"0026\",x\"fffb\",x\"ffcf\",x\"002d\",x\"ffe2\",x\"0014\",x\"0038\",x\"0002\",x\"0010\",x\"0016\",x\"002b\",x\"0032\",x\"fff2\",x\"0019\",x\"0032\",x\"0012\",x\"ffef\",x\"ffe0\",x\"fffc\",x\"002c\",x\"0004\",x\"0027\",x\"0000\",x\"0011\",x\"0001\",x\"0001\",x\"ffca\",x\"ffce\",x\"0004\",x\"001c\",x\"0026\",x\"0002\",x\"0018\",x\"0017\",x\"ffcf\",x\"ffce\",x\"0039\",x\"001d\",x\"0023\",x\"ffec\",x\"001b\",x\"ffd4\",x\"0000\",x\"ffdc\",x\"ffee\",x\"fff8\",x\"0016\",x\"000d\",x\"0035\",x\"0033\",x\"ffdc\",x\"0000\",x\"0009\",x\"0031\",x\"ffef\",x\"ffea\",x\"ffdc\",x\"002a\",x\"fff0\",x\"ffeb\",x\"0026\",x\"0006\",x\"fff3\",x\"ffe0\",x\"ffe0\",x\"ffd4\",x\"0034\",x\"fffe\",x\"ffd8\",x\"002e\",x\"ffed\",x\"ffe6\",x\"ffd8\",x\"ffe5\",x\"ffd4\",x\"ffdf\",x\"ffcc\",x\"fff5\",x\"0017\",x\"ffd5\",x\"0000\",x\"ffeb\",x\"001b\",x\"0031\",x\"fff9\",x\"ffe4\",x\"0026\",x\"0028\",x\"fffa\",x\"ffdf\",x\"002c\",x\"ffd5\",x\"ffdf\",x\"0010\",x\"000d\",x\"001e\",x\"fff8\",x\"001d\",x\"ffce\",x\"000f\",x\"0037\",x\"ffc8\",x\"ffe3\",x\"0024\",x\"fff8\",x\"ffe2\",x\"0022\",x\"0003\",x\"0002\",x\"ffef\",x\"002b\",x\"0000\",x\"0000\",x\"0000\",x\"0000\",x\"0000\",x\"0000\",x\"0000\",x\"0000\",x\"0000\",x\"0000\",x\"0000\",x\"0000\");\n",
      "signal ROM : BI_ARRAY:= (x\"0009\",x\"ffe4\",x\"ffda\",x\"004b\",x\"001c\",x\"ffe7\",x\"ffde\",x\"0041\",x\"ffc4\",x\"001e\",x\"ffad\",x\"ffeb\",x\"0009\",x\"ffe7\",x\"0020\",x\"fff7\",x\"000f\",x\"0033\",x\"ffac\",x\"000c\",x\"0000\",x\"0000\",x\"0000\",x\"0000\",x\"0000\",x\"0000\",x\"0000\",x\"0000\",x\"0000\",x\"0000\",x\"0000\",x\"0000\");\n",
      "signal ROM : BF_ARRAY:= (x\"ff97\",x\"ffe3\",x\"fffd\",x\"ffd9\",x\"0033\",x\"0032\",x\"0037\",x\"ffd3\",x\"001a\",x\"0049\",x\"fffc\",x\"0027\",x\"ffec\",x\"0032\",x\"fff9\",x\"000f\",x\"ffe6\",x\"ffc3\",x\"004f\",x\"fffb\",x\"0000\",x\"0000\",x\"0000\",x\"0000\",x\"0000\",x\"0000\",x\"0000\",x\"0000\",x\"0000\",x\"0000\",x\"0000\",x\"0000\");\n",
      "signal ROM : BG_ARRAY:= (x\"ffee\",x\"0015\",x\"0002\",x\"0034\",x\"000b\",x\"0027\",x\"0053\",x\"000c\",x\"000c\",x\"ffbd\",x\"ffc7\",x\"001f\",x\"ffd5\",x\"fffc\",x\"ffd5\",x\"0017\",x\"005f\",x\"0002\",x\"0003\",x\"002f\",x\"0000\",x\"0000\",x\"0000\",x\"0000\",x\"0000\",x\"0000\",x\"0000\",x\"0000\",x\"0000\",x\"0000\",x\"0000\",x\"0000\");\n",
      "signal ROM : BO_ARRAY:= (x\"fff1\",x\"004c\",x\"ffc7\",x\"ffe8\",x\"fff2\",x\"0034\",x\"ffd4\",x\"ffda\",x\"ffa4\",x\"ffde\",x\"0036\",x\"004e\",x\"fff2\",x\"002d\",x\"003e\",x\"ffb8\",x\"0021\",x\"ffaa\",x\"fff5\",x\"ffd7\",x\"0000\",x\"0000\",x\"0000\",x\"0000\",x\"0000\",x\"0000\",x\"0000\",x\"0000\",x\"0000\",x\"0000\",x\"0000\",x\"0000\");\n"
     ]
    }
   ],
   "source": [
    "torch.manual_seed(0)\n",
    "random.seed(0)\n",
    "input_size  = 5\n",
    "hidden_size = 20\n",
    "len_weights = (input_size+hidden_size) * hidden_size\n",
    "len_bias = hidden_size\n",
    "\n",
    "lstm_singal_cell = nn.LSTMCell(input_size, hidden_size) # (input_size, hidden_size)\n",
    "\n",
    "for name, param in lstm_singal_cell.named_parameters():\n",
    "    \n",
    "    if name == 'weight_ih':\n",
    "        weight_ih = param.detach().numpy()\n",
    "    elif name == 'weight_hh':\n",
    "        weight_hh = param.detach().numpy()\n",
    "    elif name == 'bias_ih':\n",
    "        bias_ih = param.detach().numpy()\n",
    "    elif name == 'bias_hh':\n",
    "        bias_hh = param.detach().numpy()\n",
    "\n",
    "weights= np.hstack((weight_ih,weight_hh)).flatten().flatten()\n",
    "bias=bias_hh+bias_ih\n",
    "\n",
    "Wi = weights[len_weights*0:len_weights*1] #[Wii, Whi]\n",
    "Wf = weights[len_weights*1:len_weights*2] #[Wif, Whf]\n",
    "Wg = weights[len_weights*2:len_weights*3] #[Wig, Whg]\n",
    "Wo = weights[len_weights*3:len_weights*4] #[Wio, Who]\n",
    "\n",
    "Bi = bias[len_bias*0:len_bias*1] #B_ii+B_hi\n",
    "Bf = bias[len_bias*1:len_bias*2] #B_if+B_hf\n",
    "Bg = bias[len_bias*2:len_bias*3] #B_ig+B_hg\n",
    "Bo = bias[len_bias*3:len_bias*4] #B_io+B_ho\n",
    "\n",
    "print(float_array_to_string(float_array=Wi, vhdl_prefix=\"signal ROM : WI_ARRAY :=\", frac_bits=frac_bits, nbits=nbits))\n",
    "print(float_array_to_string(float_array=Wf, vhdl_prefix=\"signal ROM : WF_ARRAY :=\", frac_bits=frac_bits, nbits=nbits))\n",
    "print(float_array_to_string(float_array=Wg, vhdl_prefix=\"signal ROM : WG_ARRAY :=\", frac_bits=frac_bits, nbits=nbits))\n",
    "print(float_array_to_string(float_array=Wo, vhdl_prefix=\"signal ROM : WO_ARRAY :=\", frac_bits=frac_bits, nbits=nbits))\n",
    "\n",
    "print(float_array_to_string(float_array=Bi, vhdl_prefix=\"signal ROM : BI_ARRAY:=\", frac_bits=frac_bits, nbits=nbits))\n",
    "print(float_array_to_string(float_array=Bf, vhdl_prefix=\"signal ROM : BF_ARRAY:=\", frac_bits=frac_bits, nbits=nbits))\n",
    "print(float_array_to_string(float_array=Bg, vhdl_prefix=\"signal ROM : BG_ARRAY:=\", frac_bits=frac_bits, nbits=nbits))\n",
    "print(float_array_to_string(float_array=Bo, vhdl_prefix=\"signal ROM : BO_ARRAY:=\", frac_bits=frac_bits, nbits=nbits))"
   ]
  },
  {
   "cell_type": "code",
   "execution_count": 21,
   "metadata": {},
   "outputs": [
    {
     "name": "stdout",
     "output_type": "stream",
     "text": [
      "===========round0===========\n",
      "signal test_x_h_data : X_H_ARRAY :=  (x\"018a\",x\"ffb5\",x\"fdd3\",x\"0091\",x\"feeb\",x\"0099\",x\"fe72\",x\"ffa9\",x\"01da\",x\"ffc9\",x\"ff42\",x\"0090\",x\"0042\",x\"ffd4\",x\"ff53\",x\"00f0\",x\"007d\",x\"0134\",x\"0015\",x\"fecd\",x\"ffff\",x\"ff7c\",x\"ffb2\",x\"fe6c\",x\"01b4\",x\"0000\",x\"0000\",x\"0000\",x\"0000\",x\"0000\",x\"0000\",x\"0000\");\n",
      "signal test_c_data : C_ARRAY :=  (x\"0034\",x\"ff8d\",x\"ff6e\",x\"ff72\",x\"fee0\",x\"ffaf\",x\"fee9\",x\"ffeb\",x\"ffe9\",x\"00af\",x\"ff2a\",x\"0000\",x\"ff40\",x\"002f\",x\"009f\",x\"00a3\",x\"ffc2\",x\"024d\",x\"fe1f\",x\"fff4\",x\"0000\",x\"0000\",x\"0000\",x\"0000\",x\"0000\",x\"0000\",x\"0000\",x\"0000\",x\"0000\",x\"0000\",x\"0000\",x\"0000\");\n",
      "h_out:\n",
      "[  34  -80  -32  -28  -88   11  -60    6  -16   18  -32   46  -77   15\n",
      "   70   27   13  112 -156    3]\n",
      "===========round1===========\n",
      "signal test_x_h_data : X_H_ARRAY :=  (x\"fe9a\",x\"0067\",x\"00d6\",x\"ff48\",x\"ff99\",x\"0022\",x\"ffb0\",x\"ffe0\",x\"ffe4\",x\"ffa8\",x\"000b\",x\"ffc4\",x\"0006\",x\"fff0\",x\"0012\",x\"ffe0\",x\"002e\",x\"ffb3\",x\"000f\",x\"0046\",x\"001b\",x\"000d\",x\"0070\",x\"ff64\",x\"0003\",x\"0000\",x\"0000\",x\"0000\",x\"0000\",x\"0000\",x\"0000\",x\"0000\");\n",
      "signal test_c_data : C_ARRAY :=  (x\"004a\",x\"ff71\",x\"ff7b\",x\"ffd0\",x\"ff03\",x\"0016\",x\"ff73\",x\"000e\",x\"ffd3\",x\"0030\",x\"ffa9\",x\"007b\",x\"ff82\",x\"0017\",x\"0059\",x\"0067\",x\"0019\",x\"013e\",x\"fe52\",x\"0005\",x\"0000\",x\"0000\",x\"0000\",x\"0000\",x\"0000\",x\"0000\",x\"0000\",x\"0000\",x\"0000\",x\"0000\",x\"0000\",x\"0000\");\n",
      "h_out:\n",
      "[ 14 -37 -35 -18 -53  -9 -27   6 -10  11 -18  77 -21 -10 -19  40  -4  40\n",
      " -91  17]\n"
     ]
    }
   ],
   "source": [
    "torch.manual_seed(0)\n",
    "random.seed(0)\n",
    "\n",
    "input = torch.randn(2, 1, 5)  # (time_steps, batch, input_size)\n",
    "hx = torch.randn(1, 20)  # (batch, hidden_size), this is the hidden states\n",
    "cx = torch.randn(1, 20)  # this the cell states\n",
    "# input = input/torch.max(abs(input))\n",
    "# hx = hx/torch.max(abs(hx))\n",
    "# cx = cx/torch.max(abs(cx))\n",
    "output = []\n",
    "for i in range(input.size()[0]):\n",
    "    print('===========round%s==========='%str(i))\n",
    "    # print(\"input_x\",input[i])\n",
    "    # print(\"h_x\",hx)\n",
    "    # print(\"c_x\",cx)\n",
    "    x_h_input = np.hstack((input[i].detach().numpy().flatten(),hx.detach().numpy().flatten()))\n",
    "    print(float_array_to_string(x_h_input, vhdl_prefix=\"signal test_x_h_data : X_H_ARRAY := \", frac_bits=frac_bits, nbits=nbits))\n",
    "    print(float_array_to_string(cx.detach().numpy().flatten(), vhdl_prefix=\"signal test_c_data : C_ARRAY := \", frac_bits=frac_bits, nbits=nbits))\n",
    "\n",
    "    hx, cx = lstm_singal_cell(input[i], (hx, cx))\n",
    "    # print(\"h_x out:\", hx)\n",
    "    # print(\"c_x out:\", cx)\n",
    "    print(\"h_out:\")\n",
    "    print(float_array_to_int(hx.detach().numpy().flatten(), frac_bits=frac_bits))\n",
    "    output.append(hx)"
   ]
  }
 ],
 "metadata": {
  "interpreter": {
   "hash": "345519d020ef4089ba5e12f9f7620e12f9b0f9df9145176f24fbb70e015d9848"
  },
  "kernelspec": {
   "display_name": "Python 3.9.7 64-bit ('playground-3_0LI1M7': pipenv)",
   "language": "python",
   "name": "python3"
  },
  "language_info": {
   "codemirror_mode": {
    "name": "ipython",
    "version": 3
   },
   "file_extension": ".py",
   "mimetype": "text/x-python",
   "name": "python",
   "nbconvert_exporter": "python",
   "pygments_lexer": "ipython3",
   "version": "3.9.7"
  },
  "orig_nbformat": 4
 },
 "nbformat": 4,
 "nbformat_minor": 2
}
